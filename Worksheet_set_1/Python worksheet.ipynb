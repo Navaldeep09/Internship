{
 "cells": [
  {
   "cell_type": "markdown",
   "id": "0cc6eb9b",
   "metadata": {},
   "source": [
    "# 1. Which of the following operators is used to calculate remainder in a division?"
   ]
  },
  {
   "cell_type": "markdown",
   "id": "2be2d727",
   "metadata": {},
   "source": [
    "Answer C    \n"
   ]
  },
  {
   "cell_type": "code",
   "execution_count": 3,
   "id": "4fcaf3d0",
   "metadata": {},
   "outputs": [
    {
     "data": {
      "text/plain": [
       "1"
      ]
     },
     "execution_count": 3,
     "metadata": {},
     "output_type": "execute_result"
    }
   ],
   "source": [
    "100%3     \n"
   ]
  },
  {
   "cell_type": "markdown",
   "id": "85df9768",
   "metadata": {},
   "source": [
    "# 2. In python 2//3 is equal to?"
   ]
  },
  {
   "cell_type": "markdown",
   "id": "d4b18c08",
   "metadata": {},
   "source": [
    "Answer B"
   ]
  },
  {
   "cell_type": "code",
   "execution_count": 4,
   "id": "426dd3b8",
   "metadata": {},
   "outputs": [
    {
     "data": {
      "text/plain": [
       "0"
      ]
     },
     "execution_count": 4,
     "metadata": {},
     "output_type": "execute_result"
    }
   ],
   "source": [
    "2//3"
   ]
  },
  {
   "cell_type": "markdown",
   "id": "1405b4b7",
   "metadata": {},
   "source": [
    "# 3. In python, 6<<2 is equal to?"
   ]
  },
  {
   "cell_type": "markdown",
   "id": "53890e49",
   "metadata": {},
   "source": [
    "Answer c"
   ]
  },
  {
   "cell_type": "code",
   "execution_count": 5,
   "id": "823659fe",
   "metadata": {},
   "outputs": [
    {
     "data": {
      "text/plain": [
       "24"
      ]
     },
     "execution_count": 5,
     "metadata": {},
     "output_type": "execute_result"
    }
   ],
   "source": [
    "6<<2"
   ]
  },
  {
   "cell_type": "markdown",
   "id": "c437ad25",
   "metadata": {},
   "source": [
    "# 4. In python, 6&2 will give which of the following as output?"
   ]
  },
  {
   "cell_type": "markdown",
   "id": "d59fd271",
   "metadata": {},
   "source": [
    "Answer A"
   ]
  },
  {
   "cell_type": "code",
   "execution_count": 6,
   "id": "6936fc74",
   "metadata": {},
   "outputs": [
    {
     "data": {
      "text/plain": [
       "2"
      ]
     },
     "execution_count": 6,
     "metadata": {},
     "output_type": "execute_result"
    }
   ],
   "source": [
    "6&2"
   ]
  },
  {
   "cell_type": "markdown",
   "id": "2d4cc472",
   "metadata": {},
   "source": [
    "# 5. In python, 6|2 will give which of the following as output?"
   ]
  },
  {
   "cell_type": "markdown",
   "id": "7e6602d2",
   "metadata": {},
   "source": [
    "Answer D"
   ]
  },
  {
   "cell_type": "code",
   "execution_count": 7,
   "id": "3dd19b52",
   "metadata": {
    "scrolled": true
   },
   "outputs": [
    {
     "data": {
      "text/plain": [
       "6"
      ]
     },
     "execution_count": 7,
     "metadata": {},
     "output_type": "execute_result"
    }
   ],
   "source": [
    "6|2"
   ]
  },
  {
   "cell_type": "markdown",
   "id": "9a61608e",
   "metadata": {},
   "source": [
    "# 6. What does the finally keyword denotes in python?"
   ]
  },
  {
   "cell_type": "markdown",
   "id": "0c017174",
   "metadata": {},
   "source": [
    "Answer c- the finally block will be executed no matter if the try block raises an error or not."
   ]
  },
  {
   "cell_type": "markdown",
   "id": "f782b5f2",
   "metadata": {},
   "source": [
    "# 7. What does raise keyword is used for in python?"
   ]
  },
  {
   "cell_type": "code",
   "execution_count": null,
   "id": "0b26e002",
   "metadata": {},
   "outputs": [],
   "source": [
    "Answer A-It is used to raise an exception."
   ]
  },
  {
   "cell_type": "markdown",
   "id": "cd909ae8",
   "metadata": {},
   "source": [
    "# 8. Which of the following is a common use case of yield keyword in python?"
   ]
  },
  {
   "cell_type": "code",
   "execution_count": null,
   "id": "5126c918",
   "metadata": {},
   "outputs": [],
   "source": [
    "Answer c-in defining a generator"
   ]
  },
  {
   "cell_type": "markdown",
   "id": "1dcc7efd",
   "metadata": {},
   "source": [
    "# 9. Which of the following are the valid variable names?"
   ]
  },
  {
   "cell_type": "markdown",
   "id": "13c4f144",
   "metadata": {},
   "source": [
    "Answer A and C \n"
   ]
  },
  {
   "cell_type": "code",
   "execution_count": 8,
   "id": "c5f96eb3",
   "metadata": {},
   "outputs": [],
   "source": [
    "abc2=29"
   ]
  },
  {
   "cell_type": "code",
   "execution_count": 9,
   "id": "6a4bf15b",
   "metadata": {},
   "outputs": [],
   "source": [
    "_abc=3"
   ]
  },
  {
   "cell_type": "code",
   "execution_count": 10,
   "id": "8ebbe159",
   "metadata": {},
   "outputs": [
    {
     "ename": "SyntaxError",
     "evalue": "invalid syntax (233254652.py, line 1)",
     "output_type": "error",
     "traceback": [
      "\u001b[1;36m  File \u001b[1;32m\"C:\\Users\\admin\\AppData\\Local\\Temp\\ipykernel_15060\\233254652.py\"\u001b[1;36m, line \u001b[1;32m1\u001b[0m\n\u001b[1;33m    1abc=32\u001b[0m\n\u001b[1;37m     ^\u001b[0m\n\u001b[1;31mSyntaxError\u001b[0m\u001b[1;31m:\u001b[0m invalid syntax\n"
     ]
    }
   ],
   "source": [
    "1abc=32"
   ]
  },
  {
   "cell_type": "markdown",
   "id": "89a6e598",
   "metadata": {},
   "source": [
    "# 10. Which of the following are the keywords in python?"
   ]
  },
  {
   "cell_type": "markdown",
   "id": "f581898e",
   "metadata": {},
   "source": [
    "Answer A and B- Yield and Raise"
   ]
  },
  {
   "cell_type": "code",
   "execution_count": 14,
   "id": "e0546f0a",
   "metadata": {},
   "outputs": [],
   "source": [
    "import keyword"
   ]
  },
  {
   "cell_type": "code",
   "execution_count": 15,
   "id": "54b917ca",
   "metadata": {},
   "outputs": [
    {
     "data": {
      "text/plain": [
       "['False',\n",
       " 'None',\n",
       " 'True',\n",
       " '__peg_parser__',\n",
       " 'and',\n",
       " 'as',\n",
       " 'assert',\n",
       " 'async',\n",
       " 'await',\n",
       " 'break',\n",
       " 'class',\n",
       " 'continue',\n",
       " 'def',\n",
       " 'del',\n",
       " 'elif',\n",
       " 'else',\n",
       " 'except',\n",
       " 'finally',\n",
       " 'for',\n",
       " 'from',\n",
       " 'global',\n",
       " 'if',\n",
       " 'import',\n",
       " 'in',\n",
       " 'is',\n",
       " 'lambda',\n",
       " 'nonlocal',\n",
       " 'not',\n",
       " 'or',\n",
       " 'pass',\n",
       " 'raise',\n",
       " 'return',\n",
       " 'try',\n",
       " 'while',\n",
       " 'with',\n",
       " 'yield']"
      ]
     },
     "execution_count": 15,
     "metadata": {},
     "output_type": "execute_result"
    }
   ],
   "source": [
    "keyword.kwlist"
   ]
  },
  {
   "cell_type": "markdown",
   "id": "34a76404",
   "metadata": {},
   "source": [
    "# 11. Write a python program to find the factorial of a number."
   ]
  },
  {
   "cell_type": "code",
   "execution_count": 18,
   "id": "35fc2ead",
   "metadata": {},
   "outputs": [
    {
     "name": "stdout",
     "output_type": "stream",
     "text": [
      "Enter a number: 5\n",
      "Factorial of 5 is 120\n"
     ]
    }
   ],
   "source": [
    "number = int (input (\"Enter a number: \"))\n",
    "factorial = 1\n",
    "if number >= 1:\n",
    "    for i in range (1, number+1):\n",
    "        factorial=factorial *i\n",
    "print(\"Factorial of\", number,'is', factorial)"
   ]
  },
  {
   "cell_type": "code",
   "execution_count": 21,
   "id": "35dc7608",
   "metadata": {},
   "outputs": [
    {
     "name": "stdout",
     "output_type": "stream",
     "text": [
      "Enter a number: 5\n",
      "The factorial of 5 is 120\n"
     ]
    }
   ],
   "source": [
    "import math\n",
    "number= int (input (\"Enter a number: \"))\n",
    "factorial= math.factorial(number)\n",
    "print(\"The factorial of\", number, \"is\", factorial)"
   ]
  },
  {
   "cell_type": "markdown",
   "id": "d9bfa888",
   "metadata": {},
   "source": [
    "# 12. Write a python program to find whether a number is prime or composite."
   ]
  },
  {
   "cell_type": "code",
   "execution_count": 35,
   "id": "6ced3a8a",
   "metadata": {},
   "outputs": [
    {
     "name": "stdout",
     "output_type": "stream",
     "text": [
      "Enter any number : 3\n",
      "3 is a PRIME number\n"
     ]
    }
   ],
   "source": [
    "number= int(input(\"Enter any number : \"))\n",
    "if number>1:\n",
    "    for i in range(2, number):\n",
    "        if (number % i) == 0:\n",
    "            print(number, \"is NOT a PRIME number, it is a COMPOSITE number\")\n",
    "            break\n",
    "    else:\n",
    "        print(number, \"is a PRIME number\")\n",
    "elif number==0 or 1:\n",
    "    print(number, \"is a neither Prime NOR Composite number\")\n",
    "else:\n",
    "    print()"
   ]
  },
  {
   "cell_type": "markdown",
   "id": "850c1ca8",
   "metadata": {},
   "source": [
    "# 13. Write a python program to check whether a given string is palindrome or not."
   ]
  },
  {
   "cell_type": "code",
   "execution_count": 34,
   "id": "b28f6845",
   "metadata": {},
   "outputs": [
    {
     "name": "stdout",
     "output_type": "stream",
     "text": [
      "Enter your string : RADAR\n",
      "String is palindrome\n"
     ]
    }
   ],
   "source": [
    "string=input(\"Enter your string : \")\n",
    "emptystring = \"\"\n",
    "for i in string:\n",
    "    emptystring = i+emptystring\n",
    " \n",
    "if (string==emptystring):\n",
    "    print(\"String is palindrome\")\n",
    "else:\n",
    "    print(\"String is not palindrome\")"
   ]
  },
  {
   "cell_type": "code",
   "execution_count": null,
   "id": "19ca760e",
   "metadata": {},
   "outputs": [],
   "source": [
    "          "
   ]
  }
 ],
 "metadata": {
  "kernelspec": {
   "display_name": "Python 3 (ipykernel)",
   "language": "python",
   "name": "python3"
  },
  "language_info": {
   "codemirror_mode": {
    "name": "ipython",
    "version": 3
   },
   "file_extension": ".py",
   "mimetype": "text/x-python",
   "name": "python",
   "nbconvert_exporter": "python",
   "pygments_lexer": "ipython3",
   "version": "3.9.13"
  }
 },
 "nbformat": 4,
 "nbformat_minor": 5
}
