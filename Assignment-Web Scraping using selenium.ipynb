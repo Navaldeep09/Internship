{
 "cells": [
  {
   "cell_type": "code",
   "execution_count": null,
   "id": "a617cfaa",
   "metadata": {},
   "outputs": [],
   "source": [
    "!pip install selenium\n",
    "import selenium\n",
    "from selenium import webdriver\n",
    "from selenium.webdriver.common.by import By\n",
    "import time\n",
    "import pandas as pd\n",
    "import warnings\n",
    "warnings.filterwarnings('ignore')"
   ]
  },
  {
   "cell_type": "markdown",
   "id": "65210216",
   "metadata": {},
   "source": [
    "# Question 1"
   ]
  },
  {
   "cell_type": "code",
   "execution_count": 174,
   "id": "b3bef1de",
   "metadata": {},
   "outputs": [],
   "source": [
    "driver=webdriver.Chrome()"
   ]
  },
  {
   "cell_type": "code",
   "execution_count": 175,
   "id": "cee0287e",
   "metadata": {},
   "outputs": [],
   "source": [
    "#Getting the webpage\n",
    "driver.get(\"https://www.shine.com/\")"
   ]
  },
  {
   "cell_type": "code",
   "execution_count": 177,
   "id": "dc0f3c80",
   "metadata": {},
   "outputs": [],
   "source": [
    "#Clicking on search button\n",
    "Find=driver.find_element(By.CLASS_NAME,\"input\")\n",
    "Find.click()\n"
   ]
  },
  {
   "cell_type": "code",
   "execution_count": 179,
   "id": "220ca116",
   "metadata": {},
   "outputs": [],
   "source": [
    "job=driver.find_element(By.XPATH,'/html/body/div/div[4]/div/div[2]/div[2]/div/form/div/div[1]/ul/li[1]/div/input')\n",
    "job.send_keys('Data Analyst')\n",
    "location=driver.find_element(By.XPATH,'/html/body/div/div[4]/div/div[2]/div[2]/div/form/div/div[1]/ul/li[2]/div/input')\n",
    "location.send_keys(\"Bangalore\")\n",
    "search=driver.find_element(By.XPATH,'/html/body/div/div[4]/div/div[2]/div[2]/div/form/div/div[2]/div/button')\n",
    "search.click()"
   ]
  },
  {
   "cell_type": "code",
   "execution_count": 180,
   "id": "c40595e9",
   "metadata": {},
   "outputs": [
    {
     "data": {
      "text/html": [
       "<div>\n",
       "<style scoped>\n",
       "    .dataframe tbody tr th:only-of-type {\n",
       "        vertical-align: middle;\n",
       "    }\n",
       "\n",
       "    .dataframe tbody tr th {\n",
       "        vertical-align: top;\n",
       "    }\n",
       "\n",
       "    .dataframe thead th {\n",
       "        text-align: right;\n",
       "    }\n",
       "</style>\n",
       "<table border=\"1\" class=\"dataframe\">\n",
       "  <thead>\n",
       "    <tr style=\"text-align: right;\">\n",
       "      <th></th>\n",
       "      <th>Title</th>\n",
       "      <th>Company Name</th>\n",
       "      <th>Location</th>\n",
       "      <th>Experience</th>\n",
       "    </tr>\n",
       "  </thead>\n",
       "  <tbody>\n",
       "    <tr>\n",
       "      <th>0</th>\n",
       "      <td>Lead Data Analyst</td>\n",
       "      <td>ara resources private limited</td>\n",
       "      <td>Bangalore</td>\n",
       "      <td>4 to 9 Yrs</td>\n",
       "    </tr>\n",
       "    <tr>\n",
       "      <th>1</th>\n",
       "      <td>Data Analyst</td>\n",
       "      <td>diraa hr services hiring for mncs</td>\n",
       "      <td>Bangalore\\n+3</td>\n",
       "      <td>0 to 1 Yr</td>\n",
       "    </tr>\n",
       "    <tr>\n",
       "      <th>2</th>\n",
       "      <td>Vacancy For Data Analyst</td>\n",
       "      <td>yogita staffing solution</td>\n",
       "      <td>Bangalore\\n+14</td>\n",
       "      <td>0 to 3 Yrs</td>\n",
       "    </tr>\n",
       "    <tr>\n",
       "      <th>3</th>\n",
       "      <td>Clinical Data Analyst</td>\n",
       "      <td>techno endura</td>\n",
       "      <td>Bangalore\\n+6</td>\n",
       "      <td>0 to 1 Yr</td>\n",
       "    </tr>\n",
       "    <tr>\n",
       "      <th>4</th>\n",
       "      <td>Data Management</td>\n",
       "      <td>future solution centre</td>\n",
       "      <td>Bangalore\\n+18</td>\n",
       "      <td>15 to &gt;25 Yrs</td>\n",
       "    </tr>\n",
       "    <tr>\n",
       "      <th>5</th>\n",
       "      <td>Data Modeler data</td>\n",
       "      <td>boyen haddin consulting and technol...</td>\n",
       "      <td>Bangalore</td>\n",
       "      <td>3 to 6 Yrs</td>\n",
       "    </tr>\n",
       "    <tr>\n",
       "      <th>6</th>\n",
       "      <td>Data Modeller</td>\n",
       "      <td>boyen haddin consulting and technol...</td>\n",
       "      <td>Bangalore</td>\n",
       "      <td>3 to 6 Yrs</td>\n",
       "    </tr>\n",
       "    <tr>\n",
       "      <th>7</th>\n",
       "      <td>Data Modeler Bangalore</td>\n",
       "      <td>boyen haddin consulting and technol...</td>\n",
       "      <td>Bangalore</td>\n",
       "      <td>3 to 6 Yrs</td>\n",
       "    </tr>\n",
       "    <tr>\n",
       "      <th>8</th>\n",
       "      <td>Data Modeler</td>\n",
       "      <td>boyen haddin consulting and technol...</td>\n",
       "      <td>Bangalore</td>\n",
       "      <td>3 to 6 Yrs</td>\n",
       "    </tr>\n",
       "    <tr>\n",
       "      <th>9</th>\n",
       "      <td>Clinical Data Analyst</td>\n",
       "      <td>quiscon biotech</td>\n",
       "      <td>Bangalore\\n+4</td>\n",
       "      <td>0 to 2 Yrs</td>\n",
       "    </tr>\n",
       "  </tbody>\n",
       "</table>\n",
       "</div>"
      ],
      "text/plain": [
       "                      Title                            Company Name  \\\n",
       "0         Lead Data Analyst           ara resources private limited   \n",
       "1              Data Analyst       diraa hr services hiring for mncs   \n",
       "2  Vacancy For Data Analyst                yogita staffing solution   \n",
       "3     Clinical Data Analyst                           techno endura   \n",
       "4           Data Management                  future solution centre   \n",
       "5         Data Modeler data  boyen haddin consulting and technol...   \n",
       "6             Data Modeller  boyen haddin consulting and technol...   \n",
       "7    Data Modeler Bangalore  boyen haddin consulting and technol...   \n",
       "8              Data Modeler  boyen haddin consulting and technol...   \n",
       "9     Clinical Data Analyst                         quiscon biotech   \n",
       "\n",
       "         Location     Experience  \n",
       "0       Bangalore     4 to 9 Yrs  \n",
       "1   Bangalore\\n+3      0 to 1 Yr  \n",
       "2  Bangalore\\n+14     0 to 3 Yrs  \n",
       "3   Bangalore\\n+6      0 to 1 Yr  \n",
       "4  Bangalore\\n+18  15 to >25 Yrs  \n",
       "5       Bangalore     3 to 6 Yrs  \n",
       "6       Bangalore     3 to 6 Yrs  \n",
       "7       Bangalore     3 to 6 Yrs  \n",
       "8       Bangalore     3 to 6 Yrs  \n",
       "9   Bangalore\\n+4     0 to 2 Yrs  "
      ]
     },
     "execution_count": 180,
     "metadata": {},
     "output_type": "execute_result"
    }
   ],
   "source": [
    "job_title=[]\n",
    "company_name=[]\n",
    "job_location=[]\n",
    "experience=[]\n",
    "\n",
    "#fetching job titles\n",
    "title_tag=driver.find_elements(By.XPATH,'//div[@class=\"parentClass position-relative\"]/div/div/div/h2/a')[:10]\n",
    "for t in title_tag:\n",
    "    job_title.append(t.text)\n",
    "    \n",
    "#fetching company details\n",
    "company=driver.find_elements(By.XPATH,'//div[@class=\"jobCard_jobCard_cName__mYnow\"]')[:10]\n",
    "for c in company:\n",
    "    company_name.append(c.text)\n",
    "    \n",
    "#fetching job locations\n",
    "location=driver.find_elements(By.XPATH,' //div[@class=\" jobCard_jobCard_lists_item__YxRkV jobCard_locationIcon__zrWt2\"]')[:10]\n",
    "for l in location:\n",
    "    job_location.append(l.text)\n",
    "\n",
    "#fetching experience[:10]\n",
    "experience1=driver.find_elements(By.XPATH,'//div[@class=\" jobCard_jobCard_lists_item__YxRkV jobCard_jobIcon__3FB1t\"]')[:10]\n",
    "for exp in experience1:\n",
    "    experience.append(exp.text)\n",
    "    \n",
    "# Creating DataFrame\n",
    "df=pd.DataFrame({'Title':job_title,'Company Name':company_name,'Location':job_location,'Experience':experience})\n",
    "df"
   ]
  },
  {
   "cell_type": "code",
   "execution_count": 181,
   "id": "880a47ef",
   "metadata": {},
   "outputs": [
    {
     "name": "stdout",
     "output_type": "stream",
     "text": [
      "10 10 10 10\n"
     ]
    }
   ],
   "source": [
    "print(len(job_title),len(company_name),len(job_location),len(experience))"
   ]
  },
  {
   "cell_type": "markdown",
   "id": "1811fb85",
   "metadata": {},
   "source": [
    "# Question 2"
   ]
  },
  {
   "cell_type": "code",
   "execution_count": 182,
   "id": "126ad4ea",
   "metadata": {},
   "outputs": [],
   "source": [
    "driver=webdriver.Chrome()\n",
    "\n",
    "#Getting the webpage\n",
    "driver.get(\"https://www.shine.com/\")\n",
    "\n",
    "#Clicking on search button\n",
    "Find=driver.find_element(By.CLASS_NAME,\"input\")\n",
    "Find.click()\n",
    "\n",
    "job=driver.find_element(By.XPATH,'/html/body/div/div[4]/div/div[2]/div[2]/div/form/div/div[1]/ul/li[1]/div/input')\n",
    "job.send_keys('Data Scientist')\n",
    "location=driver.find_element(By.XPATH,'/html/body/div/div[4]/div/div[2]/div[2]/div/form/div/div[1]/ul/li[2]/div/input')\n",
    "location.send_keys(\"Bangalore\")\n",
    "search=driver.find_element(By.XPATH,'/html/body/div/div[4]/div/div[2]/div[2]/div/form/div/div[2]/div/button')\n",
    "search.click()\n"
   ]
  },
  {
   "cell_type": "code",
   "execution_count": 187,
   "id": "7b7c6b77",
   "metadata": {},
   "outputs": [
    {
     "data": {
      "text/html": [
       "<div>\n",
       "<style scoped>\n",
       "    .dataframe tbody tr th:only-of-type {\n",
       "        vertical-align: middle;\n",
       "    }\n",
       "\n",
       "    .dataframe tbody tr th {\n",
       "        vertical-align: top;\n",
       "    }\n",
       "\n",
       "    .dataframe thead th {\n",
       "        text-align: right;\n",
       "    }\n",
       "</style>\n",
       "<table border=\"1\" class=\"dataframe\">\n",
       "  <thead>\n",
       "    <tr style=\"text-align: right;\">\n",
       "      <th></th>\n",
       "      <th>Title</th>\n",
       "      <th>Company Name</th>\n",
       "      <th>Location</th>\n",
       "      <th>Experience</th>\n",
       "    </tr>\n",
       "  </thead>\n",
       "  <tbody>\n",
       "    <tr>\n",
       "      <th>0</th>\n",
       "      <td>ML Data Scientist</td>\n",
       "      <td>gujarat facility services hiring fo...</td>\n",
       "      <td>Bangalore\\n+3</td>\n",
       "      <td>5 to 8 Yrs</td>\n",
       "    </tr>\n",
       "    <tr>\n",
       "      <th>1</th>\n",
       "      <td>Data Scientist Urgent Vacancy</td>\n",
       "      <td>renuka interprises</td>\n",
       "      <td>Bangalore\\n+15</td>\n",
       "      <td>0 to 4 Yrs</td>\n",
       "    </tr>\n",
       "    <tr>\n",
       "      <th>2</th>\n",
       "      <td>Data Scientist Recruitment</td>\n",
       "      <td>renuka interprises</td>\n",
       "      <td>Bangalore\\n+15</td>\n",
       "      <td>0 to 4 Yrs</td>\n",
       "    </tr>\n",
       "    <tr>\n",
       "      <th>3</th>\n",
       "      <td>Data Scientist Recruitment</td>\n",
       "      <td>renuka interprises</td>\n",
       "      <td>Bangalore\\n+15</td>\n",
       "      <td>0 to 4 Yrs</td>\n",
       "    </tr>\n",
       "    <tr>\n",
       "      <th>4</th>\n",
       "      <td>Data Scientist</td>\n",
       "      <td>acme services private limited</td>\n",
       "      <td>Bangalore\\n+4</td>\n",
       "      <td>3 to 5 Yrs</td>\n",
       "    </tr>\n",
       "    <tr>\n",
       "      <th>5</th>\n",
       "      <td>Data Scientist</td>\n",
       "      <td>ltimindtree limited</td>\n",
       "      <td>Bangalore</td>\n",
       "      <td>6 to 8 Yrs</td>\n",
       "    </tr>\n",
       "    <tr>\n",
       "      <th>6</th>\n",
       "      <td>Lead Data Scientist/ Principal Data Scientist</td>\n",
       "      <td>fractal</td>\n",
       "      <td>Bangalore\\n+1</td>\n",
       "      <td>5 to 9 Yrs</td>\n",
       "    </tr>\n",
       "    <tr>\n",
       "      <th>7</th>\n",
       "      <td>Vacancy For Data Scientist Fresher and Experience</td>\n",
       "      <td>yogita staffing solution</td>\n",
       "      <td>Bangalore\\n+14</td>\n",
       "      <td>0 to 3 Yrs</td>\n",
       "    </tr>\n",
       "    <tr>\n",
       "      <th>8</th>\n",
       "      <td>Senior Data Scientist</td>\n",
       "      <td>neostats</td>\n",
       "      <td>Bangalore\\n+1</td>\n",
       "      <td>7 to 11 Yrs</td>\n",
       "    </tr>\n",
       "    <tr>\n",
       "      <th>9</th>\n",
       "      <td>Lead Data Scientist</td>\n",
       "      <td>aereo</td>\n",
       "      <td>Bangalore\\n+1</td>\n",
       "      <td>7 to 10 Yrs</td>\n",
       "    </tr>\n",
       "  </tbody>\n",
       "</table>\n",
       "</div>"
      ],
      "text/plain": [
       "                                               Title  \\\n",
       "0                                  ML Data Scientist   \n",
       "1                      Data Scientist Urgent Vacancy   \n",
       "2                         Data Scientist Recruitment   \n",
       "3                         Data Scientist Recruitment   \n",
       "4                                     Data Scientist   \n",
       "5                                     Data Scientist   \n",
       "6      Lead Data Scientist/ Principal Data Scientist   \n",
       "7  Vacancy For Data Scientist Fresher and Experience   \n",
       "8                              Senior Data Scientist   \n",
       "9                                Lead Data Scientist   \n",
       "\n",
       "                             Company Name        Location   Experience  \n",
       "0  gujarat facility services hiring fo...   Bangalore\\n+3   5 to 8 Yrs  \n",
       "1                      renuka interprises  Bangalore\\n+15   0 to 4 Yrs  \n",
       "2                      renuka interprises  Bangalore\\n+15   0 to 4 Yrs  \n",
       "3                      renuka interprises  Bangalore\\n+15   0 to 4 Yrs  \n",
       "4           acme services private limited   Bangalore\\n+4   3 to 5 Yrs  \n",
       "5                     ltimindtree limited       Bangalore   6 to 8 Yrs  \n",
       "6                                 fractal   Bangalore\\n+1   5 to 9 Yrs  \n",
       "7                yogita staffing solution  Bangalore\\n+14   0 to 3 Yrs  \n",
       "8                                neostats   Bangalore\\n+1  7 to 11 Yrs  \n",
       "9                                   aereo   Bangalore\\n+1  7 to 10 Yrs  "
      ]
     },
     "execution_count": 187,
     "metadata": {},
     "output_type": "execute_result"
    }
   ],
   "source": [
    "job_title=[]\n",
    "company_name=[]\n",
    "job_location=[]\n",
    "experience=[]\n",
    "\n",
    "#fetching job titles\n",
    "title_tag=driver.find_elements(By.XPATH,'//div[@class=\"parentClass position-relative\"]/div/div/div/h2/a')[:10]\n",
    "for t in title_tag:\n",
    "    job_title.append(t.text)\n",
    "    \n",
    "#fetching company details\n",
    "company=driver.find_elements(By.XPATH,'//div[@class=\"jobCard_jobCard_cName__mYnow\"]')[:10]\n",
    "for c in company:\n",
    "    company_name.append(c.text)\n",
    "    \n",
    "#fetching job locations\n",
    "location=driver.find_elements(By.XPATH,' //div[@class=\" jobCard_jobCard_lists_item__YxRkV jobCard_locationIcon__zrWt2\"]')[:10]\n",
    "for l in location:\n",
    "    job_location.append(l.text)\n",
    "\n",
    "#fetching experience[:10]\n",
    "experience1=driver.find_elements(By.XPATH,'//div[@class=\" jobCard_jobCard_lists_item__YxRkV jobCard_jobIcon__3FB1t\"]')[:10]\n",
    "for exp in experience1:\n",
    "    experience.append(exp.text)\n",
    "    \n",
    "# Creating DataFrame\n",
    "df=pd.DataFrame({'Title':job_title,'Company Name':company_name,'Location':job_location,'Experience':experience})\n",
    "df"
   ]
  },
  {
   "cell_type": "code",
   "execution_count": 188,
   "id": "cef4087a",
   "metadata": {},
   "outputs": [
    {
     "name": "stdout",
     "output_type": "stream",
     "text": [
      "10 10 10 10\n"
     ]
    }
   ],
   "source": [
    "print(len(job_title),len(company_name),len(job_location),len(experience))"
   ]
  },
  {
   "cell_type": "markdown",
   "id": "2b94c5a6",
   "metadata": {},
   "source": [
    "# Question 3"
   ]
  },
  {
   "cell_type": "code",
   "execution_count": 191,
   "id": "52ad4495",
   "metadata": {},
   "outputs": [],
   "source": [
    "driver=webdriver.Chrome()\n",
    "\n",
    "#Getting the webpage\n",
    "driver.get(\"https://www.shine.com/\")\n",
    "\n",
    "#Clicking on search button\n",
    "Find=driver.find_element(By.CLASS_NAME,\"input\")\n",
    "Find.click()\n",
    "\n",
    "\n"
   ]
  },
  {
   "cell_type": "code",
   "execution_count": 194,
   "id": "40de1e3d",
   "metadata": {},
   "outputs": [],
   "source": [
    "# Getting Data scientist jobs\n",
    "\n",
    "job=driver.find_element(By.XPATH,'/html/body/div/div[4]/div/div[2]/div[2]/div/form/div/div[1]/ul/li[1]/div/input')\n",
    "job.send_keys('Data Scientist')\n",
    "search=driver.find_element(By.XPATH,'/html/body/div/div[4]/div/div[2]/div[2]/div/form/div/div[2]/div/button')\n",
    "search.click()"
   ]
  },
  {
   "cell_type": "code",
   "execution_count": 214,
   "id": "9a09d7b4",
   "metadata": {},
   "outputs": [],
   "source": [
    "#Getting jobs in Delhi location\n",
    "\n",
    "loc=driver.find_element(By.XPATH,'/html/body/div[1]/div[1]/div[3]/div/div[1]/div/div[2]/div/ul/li[1]/button')\n",
    "loc.click()\n",
    "\n",
    "location=driver.find_element(By.XPATH,'/html/body/div[3]/div/div/div/div[3]/div/div/div/ul/li[1]/input')\n",
    "location.send_keys('Delhi')\n",
    "\n",
    "select=driver.find_element(By.XPATH,'/html/body/div[3]/div/div/div/div[3]/div/div/div/ul/li[2]')\n",
    "select.click()\n",
    "\n",
    "show=driver.find_element(By.XPATH,'/html/body/div[3]/div/div/div/div[4]/button[2]')\n",
    "show.click()\n"
   ]
  },
  {
   "cell_type": "code",
   "execution_count": 220,
   "id": "a78dcda7",
   "metadata": {},
   "outputs": [],
   "source": [
    "#Getting jobs of salary 3-4 lakhs\n",
    "\n",
    "sal=driver.find_element(By.XPATH,'/html/body/div[1]/div[1]/div[3]/div/div/div/div[2]/div/ul/li[3]/button')\n",
    "sal.click()\n",
    "\n",
    "salary=driver.find_element(By.XPATH,'/html/body/div[3]/div/div/div/div[3]/div/div/div/ul/li[1]/input')\n",
    "salary.send_keys('3')\n",
    "\n",
    "select=driver.find_element(By.XPATH,'/html/body/div[3]/div/div/div/div[3]/div/div/div/ul/li[2]/span/label')\n",
    "select.click()\n",
    "\n",
    "show=driver.find_element(By.XPATH,'/html/body/div[3]/div/div/div/div[4]/button[2]')\n",
    "show.click()\n"
   ]
  },
  {
   "cell_type": "code",
   "execution_count": 221,
   "id": "f58e9230",
   "metadata": {},
   "outputs": [
    {
     "data": {
      "text/html": [
       "<div>\n",
       "<style scoped>\n",
       "    .dataframe tbody tr th:only-of-type {\n",
       "        vertical-align: middle;\n",
       "    }\n",
       "\n",
       "    .dataframe tbody tr th {\n",
       "        vertical-align: top;\n",
       "    }\n",
       "\n",
       "    .dataframe thead th {\n",
       "        text-align: right;\n",
       "    }\n",
       "</style>\n",
       "<table border=\"1\" class=\"dataframe\">\n",
       "  <thead>\n",
       "    <tr style=\"text-align: right;\">\n",
       "      <th></th>\n",
       "      <th>Title</th>\n",
       "      <th>Company Name</th>\n",
       "      <th>Location</th>\n",
       "      <th>Experience</th>\n",
       "    </tr>\n",
       "  </thead>\n",
       "  <tbody>\n",
       "    <tr>\n",
       "      <th>0</th>\n",
       "      <td>Clinical Data Specialist</td>\n",
       "      <td>techno endura</td>\n",
       "      <td>Delhi\\n+8</td>\n",
       "      <td>0 to 2 Yrs</td>\n",
       "    </tr>\n",
       "    <tr>\n",
       "      <th>1</th>\n",
       "      <td>Clinical Data Programmer</td>\n",
       "      <td>techno endura</td>\n",
       "      <td>Delhi\\n+6</td>\n",
       "      <td>0 to 1 Yr</td>\n",
       "    </tr>\n",
       "    <tr>\n",
       "      <th>2</th>\n",
       "      <td>Clinical Data Management</td>\n",
       "      <td>techno endura</td>\n",
       "      <td>Delhi\\n+8</td>\n",
       "      <td>0 to 2 Yrs</td>\n",
       "    </tr>\n",
       "    <tr>\n",
       "      <th>3</th>\n",
       "      <td>Clinical Trial Specialist</td>\n",
       "      <td>techno endura</td>\n",
       "      <td>Delhi\\n+8</td>\n",
       "      <td>0 to 2 Yrs</td>\n",
       "    </tr>\n",
       "    <tr>\n",
       "      <th>4</th>\n",
       "      <td>Clinical Research Associate</td>\n",
       "      <td>techno endura</td>\n",
       "      <td>Delhi\\n+8</td>\n",
       "      <td>0 to 2 Yrs</td>\n",
       "    </tr>\n",
       "    <tr>\n",
       "      <th>5</th>\n",
       "      <td>TMF Specialist</td>\n",
       "      <td>techno endura</td>\n",
       "      <td>Delhi\\n+6</td>\n",
       "      <td>0 to 1 Yr</td>\n",
       "    </tr>\n",
       "    <tr>\n",
       "      <th>6</th>\n",
       "      <td>TMF Specialist- Fresher</td>\n",
       "      <td>techno endura</td>\n",
       "      <td>Delhi\\n+6</td>\n",
       "      <td>0 to 1 Yr</td>\n",
       "    </tr>\n",
       "    <tr>\n",
       "      <th>7</th>\n",
       "      <td>Medical Research and Clinical Trials Vacancies</td>\n",
       "      <td>techno endura</td>\n",
       "      <td>Delhi\\n+6</td>\n",
       "      <td>0 to 1 Yr</td>\n",
       "    </tr>\n",
       "    <tr>\n",
       "      <th>8</th>\n",
       "      <td>Clinical Research Associate- Fresher</td>\n",
       "      <td>techno endura</td>\n",
       "      <td>Delhi\\n+6</td>\n",
       "      <td>0 to 1 Yr</td>\n",
       "    </tr>\n",
       "    <tr>\n",
       "      <th>9</th>\n",
       "      <td>TMF Specialist</td>\n",
       "      <td>techno endura</td>\n",
       "      <td>Delhi\\n+8</td>\n",
       "      <td>0 to 2 Yrs</td>\n",
       "    </tr>\n",
       "  </tbody>\n",
       "</table>\n",
       "</div>"
      ],
      "text/plain": [
       "                                            Title   Company Name   Location  \\\n",
       "0                        Clinical Data Specialist  techno endura  Delhi\\n+8   \n",
       "1                        Clinical Data Programmer  techno endura  Delhi\\n+6   \n",
       "2                        Clinical Data Management  techno endura  Delhi\\n+8   \n",
       "3                       Clinical Trial Specialist  techno endura  Delhi\\n+8   \n",
       "4                     Clinical Research Associate  techno endura  Delhi\\n+8   \n",
       "5                                  TMF Specialist  techno endura  Delhi\\n+6   \n",
       "6                         TMF Specialist- Fresher  techno endura  Delhi\\n+6   \n",
       "7  Medical Research and Clinical Trials Vacancies  techno endura  Delhi\\n+6   \n",
       "8            Clinical Research Associate- Fresher  techno endura  Delhi\\n+6   \n",
       "9                                  TMF Specialist  techno endura  Delhi\\n+8   \n",
       "\n",
       "   Experience  \n",
       "0  0 to 2 Yrs  \n",
       "1   0 to 1 Yr  \n",
       "2  0 to 2 Yrs  \n",
       "3  0 to 2 Yrs  \n",
       "4  0 to 2 Yrs  \n",
       "5   0 to 1 Yr  \n",
       "6   0 to 1 Yr  \n",
       "7   0 to 1 Yr  \n",
       "8   0 to 1 Yr  \n",
       "9  0 to 2 Yrs  "
      ]
     },
     "execution_count": 221,
     "metadata": {},
     "output_type": "execute_result"
    }
   ],
   "source": [
    "job_title=[]\n",
    "company_name=[]\n",
    "job_location=[]\n",
    "experience=[]\n",
    "\n",
    "#fetching job titles\n",
    "title_tag=driver.find_elements(By.XPATH,'//div[@class=\"parentClass position-relative\"]/div/div/div/h2/a')[:10]\n",
    "for t in title_tag:\n",
    "    job_title.append(t.text)\n",
    "    \n",
    "#fetching company details\n",
    "company=driver.find_elements(By.XPATH,'//div[@class=\"jobCard_jobCard_cName__mYnow\"]')[:10]\n",
    "for c in company:\n",
    "    company_name.append(c.text)\n",
    "    \n",
    "#fetching job locations\n",
    "location=driver.find_elements(By.XPATH,' //div[@class=\" jobCard_jobCard_lists_item__YxRkV jobCard_locationIcon__zrWt2\"]')[:10]\n",
    "for l in location:\n",
    "    job_location.append(l.text)\n",
    "\n",
    "#fetching experience[:10]\n",
    "experience1=driver.find_elements(By.XPATH,'//div[@class=\" jobCard_jobCard_lists_item__YxRkV jobCard_jobIcon__3FB1t\"]')[:10]\n",
    "for exp in experience1:\n",
    "    experience.append(exp.text)\n",
    "    \n",
    "# Creating DataFrame\n",
    "df=pd.DataFrame({'Title':job_title,'Company Name':company_name,'Location':job_location,'Experience':experience})\n",
    "df"
   ]
  },
  {
   "cell_type": "markdown",
   "id": "7b402259",
   "metadata": {},
   "source": [
    "# Question 4"
   ]
  },
  {
   "cell_type": "code",
   "execution_count": 422,
   "id": "02843363",
   "metadata": {},
   "outputs": [],
   "source": [
    "driver=webdriver.Chrome()\n",
    "\n",
    "#Getting the webpage\n",
    "driver.get(\"https://www.flipkart.com/\")\n"
   ]
  },
  {
   "cell_type": "code",
   "execution_count": 423,
   "id": "7e8278ab",
   "metadata": {},
   "outputs": [],
   "source": [
    "# Searching for sunglasses\n",
    "product=driver.find_element(By.XPATH,'/html/body/div[1]/div/div[1]/div/div/div/div/div[1]/div/div[1]/div/div[1]/div[1]/header/div[1]/div[2]/form/div/div/input')\n",
    "product.send_keys('sunglasses')\n"
   ]
  },
  {
   "cell_type": "code",
   "execution_count": 424,
   "id": "1e7821b5",
   "metadata": {},
   "outputs": [],
   "source": [
    "#Clicking on search icon\n",
    "search=driver.find_element(By.CLASS_NAME,\"_2iLD__\")\n",
    "search.click()"
   ]
  },
  {
   "cell_type": "code",
   "execution_count": 426,
   "id": "d403d734",
   "metadata": {},
   "outputs": [],
   "source": [
    "#Fetching brand, product description, price\n",
    "brand=[]\n",
    "productdesc=[]\n",
    "price=[]\n",
    "\n",
    "#fetching brand names\n",
    "allbrand=driver.find_elements(By.XPATH,'//div[@class=\"_2WkVRV\"]')\n",
    "for b in allbrand:\n",
    "    brand.append(b.text)\n",
    "        \n",
    "#fetching product description       \n",
    "prodec=driver.find_elements(By.XPATH,'//a[@class=\"IRpwTa\"]')\n",
    "for p in prodec:\n",
    "    productdesc.append(p.text)\n",
    "\n",
    "#fetching amount\n",
    "amount=driver.find_elements(By.XPATH,'//div[@class=\"_30jeq3\"]')\n",
    "for a in amount:\n",
    "    price.append(a.text) \n",
    "                "
   ]
  },
  {
   "cell_type": "code",
   "execution_count": 427,
   "id": "c7e6392a",
   "metadata": {},
   "outputs": [
    {
     "name": "stdout",
     "output_type": "stream",
     "text": [
      "40 37 40\n"
     ]
    }
   ],
   "source": [
    "print(len(brand),len(productdesc),len(price))"
   ]
  },
  {
   "cell_type": "markdown",
   "id": "f9726cc6",
   "metadata": {},
   "source": [
    "# Question 5"
   ]
  },
  {
   "cell_type": "code",
   "execution_count": 252,
   "id": "f7fa29ec",
   "metadata": {},
   "outputs": [],
   "source": [
    "driver=webdriver.Chrome()\n",
    "\n",
    "#Getting the webpage\n",
    "driver.get(\"https://www.flipkart.com/apple-iphone-11-black-64-gb/product- reviews/itm4e5041ba101fd?pid=MOBFWQ6BXGJCEYNY&lid=LSTMOBFWQ6BXGJCEYNYZXSHRJ&market place=FLIPKART\")\n",
    "\n",
    "#Getting error while using above link\n",
    "# nfortunately the page you are looking for has been moved or deleted"
   ]
  },
  {
   "cell_type": "markdown",
   "id": "62562982",
   "metadata": {},
   "source": [
    "# Question 6"
   ]
  },
  {
   "cell_type": "code",
   "execution_count": 370,
   "id": "e63edb49",
   "metadata": {},
   "outputs": [],
   "source": [
    "driver=webdriver.Chrome()\n",
    "\n",
    "#Getting the webpage\n",
    "driver.get(\"https://www.flipkart.com/\")"
   ]
  },
  {
   "cell_type": "code",
   "execution_count": 371,
   "id": "c8114283",
   "metadata": {},
   "outputs": [],
   "source": [
    "# Searching for sneakers\n",
    "product=driver.find_element(By.XPATH,'/html/body/div[1]/div/div[1]/div/div/div/div/div[1]/div/div[1]/div/div[1]/div[1]/header/div[1]/div[2]/form/div/div/input')\n",
    "product.send_keys('sneakers')\n"
   ]
  },
  {
   "cell_type": "code",
   "execution_count": 373,
   "id": "7dbc1f42",
   "metadata": {},
   "outputs": [],
   "source": [
    "#Clicking on search icon\n",
    "search=driver.find_element(By.CLASS_NAME,\"_2iLD__\")\n",
    "search.click()"
   ]
  },
  {
   "cell_type": "code",
   "execution_count": 374,
   "id": "700ef757",
   "metadata": {},
   "outputs": [],
   "source": [
    "#Fetching brand, product description, price\n",
    "brand=[]\n",
    "productdesc=[]\n",
    "price=[]\n",
    "\n",
    "#fetching brand\n",
    "allbrand=driver.find_elements(By.XPATH,'//div[@class=\"_2WkVRV\"]')\n",
    "for b in allbrand:\n",
    "    brand.append(b.text)\n",
    "    \n",
    "#fetching product description\n",
    "\n",
    "prodec=driver.find_elements(By.XPATH,'//a[@class=\"IRpwTa\"]')\n",
    "\n",
    "for p in prodec:\n",
    "    productdesc.append(p.text)\n",
    "    \n",
    "#fetching price\n",
    "\n",
    "amount=driver.find_elements(By.XPATH,'//div[@class=\"_30jeq3\"]')\n",
    "for b in amount:\n",
    "    price.append(b.text)\n",
    "    \n",
    "    "
   ]
  },
  {
   "cell_type": "code",
   "execution_count": 375,
   "id": "d8470ba4",
   "metadata": {},
   "outputs": [
    {
     "name": "stdout",
     "output_type": "stream",
     "text": [
      "40 30 40\n"
     ]
    }
   ],
   "source": [
    " print(len(brand),len(productdesc),len(price))"
   ]
  },
  {
   "cell_type": "markdown",
   "id": "d9b9105b",
   "metadata": {},
   "source": [
    "# Question 7"
   ]
  },
  {
   "cell_type": "code",
   "execution_count": 381,
   "id": "bcf4199e",
   "metadata": {},
   "outputs": [],
   "source": [
    "driver=webdriver.Chrome()\n",
    "\n",
    "#Getting the webpage\n",
    "driver.get(\"https://www.amazon.in/\")\n"
   ]
  },
  {
   "cell_type": "code",
   "execution_count": 382,
   "id": "6054fb48",
   "metadata": {},
   "outputs": [],
   "source": [
    "# Searching for laptop\n",
    "product=driver.find_element(By.XPATH,'/html/body/div[1]/header/div/div[1]/div[2]/div/form/div[2]/div[1]/input')\n",
    "product.send_keys('Laptop')\n"
   ]
  },
  {
   "cell_type": "code",
   "execution_count": 383,
   "id": "a4b53629",
   "metadata": {},
   "outputs": [],
   "source": [
    "#Clicking on search icon\n",
    "search=driver.find_element(By.XPATH,\"/html/body/div[1]/header/div/div[1]/div[2]/div/form/div[3]/div/span/input\")\n",
    "search.click()"
   ]
  },
  {
   "cell_type": "code",
   "execution_count": 384,
   "id": "ccc3be32",
   "metadata": {},
   "outputs": [],
   "source": [
    "#selecting cpu type filter Intel Core i7\n",
    "select=driver.find_element(By.XPATH,\"/html/body/div[1]/div[1]/div[1]/div[2]/div/div[3]/span/div[1]/div/div/div[6]/ul[19]/span/span[9]/li/span/a/div/label/i\")\n",
    "select.click()"
   ]
  },
  {
   "cell_type": "code",
   "execution_count": 388,
   "id": "d978cdbf",
   "metadata": {},
   "outputs": [],
   "source": [
    "title=[]\n",
    "ratings=[]\n",
    "price=[]\n",
    "\n",
    "#fetching title\n",
    "title_tag=driver.find_elements(By.XPATH,'//span[@class=\"a-size-medium a-color-base a-text-normal\"]')[:10]\n",
    "for t in title_tag:\n",
    "    title.append(t.text)\n",
    "    \n",
    "#fetching rating\n",
    "rating_tag=driver.find_elements(By.XPATH,'//div[@class=\"a-row a-size-small\"]/span')[:10]\n",
    "for r in rating_tag:\n",
    "    ratings.append(r.text)\n",
    "    \n",
    "#fetching price\n",
    "price_tag=driver.find_elements(By.XPATH,'//span[@class=\"a-price-whole\"]')[:10]\n",
    "for r in price_tag:\n",
    "    price.append(r.text)\n"
   ]
  },
  {
   "cell_type": "code",
   "execution_count": 389,
   "id": "80e3d20f",
   "metadata": {},
   "outputs": [
    {
     "name": "stdout",
     "output_type": "stream",
     "text": [
      "10 10 10\n"
     ]
    }
   ],
   "source": [
    "print(len(price),len(ratings),len(price))"
   ]
  },
  {
   "cell_type": "markdown",
   "id": "2961ec32",
   "metadata": {},
   "source": [
    "# Question 8"
   ]
  },
  {
   "cell_type": "code",
   "execution_count": 428,
   "id": "c5aa6874",
   "metadata": {},
   "outputs": [],
   "source": [
    "driver=webdriver.Chrome()\n",
    "\n",
    "#Getting the webpage\n",
    "driver.get(\"https://www.azquotes.com/\")"
   ]
  },
  {
   "cell_type": "code",
   "execution_count": 429,
   "id": "097a3e5c",
   "metadata": {},
   "outputs": [],
   "source": [
    "#selecting top quotes\n",
    "select=driver.find_element(By.XPATH,'//div[@class=\"mainmenu\"]/ul/li[5]')\n",
    "select.click()"
   ]
  },
  {
   "cell_type": "code",
   "execution_count": 430,
   "id": "db1bd171",
   "metadata": {},
   "outputs": [],
   "source": [
    "quote=[]\n",
    "author=[]\n",
    "typequote=[]\n",
    "\n",
    "#fetching Quote\n",
    "quote_tag=driver.find_elements(By.XPATH,'//a[@class=\"title\"]')\n",
    "for q in quote_tag:\n",
    "    quote.append(q.text)\n",
    "    \n",
    "#fetching Author\n",
    "author_tag=driver.find_elements(By.XPATH,'//div[@class=\"author\"]/a')\n",
    "for a in author_tag:\n",
    "    author.append(a.text)\n",
    "    \n",
    "#fetching Type Of Quotes\n",
    "typequote_tag=driver.find_elements(By.XPATH,'//div[@class=\"tags\"]')\n",
    "for tq in typequote_tag:\n",
    "    typequote.append(tq.text)"
   ]
  },
  {
   "cell_type": "code",
   "execution_count": 431,
   "id": "42cc7eec",
   "metadata": {},
   "outputs": [
    {
     "name": "stdout",
     "output_type": "stream",
     "text": [
      "100 100 100\n"
     ]
    }
   ],
   "source": [
    "print(len(quote),len(author),len(typequote))"
   ]
  },
  {
   "cell_type": "markdown",
   "id": "f6707ef0",
   "metadata": {},
   "source": [
    "# Question 9"
   ]
  },
  {
   "cell_type": "code",
   "execution_count": 432,
   "id": "915d36a6",
   "metadata": {},
   "outputs": [],
   "source": [
    "driver=webdriver.Chrome()\n",
    "\n",
    "#Getting the webpage\n",
    "driver.get(\"https://www.jagranjosh.com/\")"
   ]
  },
  {
   "cell_type": "code",
   "execution_count": 433,
   "id": "cc20ab30",
   "metadata": {},
   "outputs": [],
   "source": [
    "#selecting GK menu\n",
    "select=driver.find_element(By.XPATH,'//div[@class=\"Header_topNav__NnKZp\"]/ul/li[3]')\n",
    "select.click()"
   ]
  },
  {
   "cell_type": "code",
   "execution_count": 434,
   "id": "ae0f08a3",
   "metadata": {},
   "outputs": [],
   "source": [
    "#selecting list of prime ministers\n",
    "pm=driver.find_element(By.XPATH,'//ul[@class=\"jsx-12c9ed9faf10694e dotlist\"]/li[11]/a')\n",
    "pm.click()"
   ]
  },
  {
   "cell_type": "code",
   "execution_count": 350,
   "id": "6390ef26",
   "metadata": {},
   "outputs": [],
   "source": [
    "name=[]\n",
    "born_dead=[]\n",
    "term_office=[]\n",
    "remarks=[]\n",
    "\n",
    "#fetching name\n",
    "name_tag=driver.find_elements(By.XPATH,'//div[@class=\"TableData\"]/table/tbody/tr/td[2]')\n",
    "for n in name_tag:\n",
    "    name.append(n.text)\n",
    "\n",
    "#fetching Born-Dead\n",
    "born_tag=driver.find_elements(By.XPATH,'//div[@class=\"TableData\"]/table/tbody/tr/td[3]')\n",
    "for bd in born_tag:\n",
    "    born_dead.append(bd.text)\n",
    "    \n",
    "#fetching term office\n",
    "term_tag=driver.find_elements(By.XPATH,'//div[@class=\"TableData\"]/table/tbody/tr/td[4]')\n",
    "for o in term_tag:\n",
    "    term_office.append(o.text)\n",
    "    \n",
    "#fetching remarks\n",
    "remarks_tag=driver.find_elements(By.XPATH,'//div[@class=\"TableData\"]/table/tbody/tr/td[5]')\n",
    "for r in remarks_tag:\n",
    "    remarks.append(r.text)"
   ]
  },
  {
   "cell_type": "code",
   "execution_count": 351,
   "id": "d58f285d",
   "metadata": {},
   "outputs": [
    {
     "name": "stdout",
     "output_type": "stream",
     "text": [
      "20 19 19 19\n"
     ]
    }
   ],
   "source": [
    "print(len(name),len(born_dead),len(term_office),len(remarks))"
   ]
  },
  {
   "cell_type": "markdown",
   "id": "2c787543",
   "metadata": {},
   "source": [
    "# Question 10\n"
   ]
  },
  {
   "cell_type": "code",
   "execution_count": 363,
   "id": "e1fa3ea0",
   "metadata": {},
   "outputs": [],
   "source": [
    "driver=webdriver.Chrome()\n",
    "\n",
    "#Getting the webpage\n",
    "driver.get(\"https://www.motor1.com/\")"
   ]
  },
  {
   "cell_type": "code",
   "execution_count": null,
   "id": "a69fea38",
   "metadata": {},
   "outputs": [],
   "source": [
    "car=driver.find_element(By.XPATH,'/html/body/div[10]/div[2]/div/div/div[3]/div/div/div/form/input')\n",
    "car.send_keys('50 most expensive cars')"
   ]
  },
  {
   "cell_type": "code",
   "execution_count": null,
   "id": "2f53253b",
   "metadata": {},
   "outputs": [],
   "source": [
    "#clicking search button\n",
    "search=driver.find_element(By.XPATH,'/html/body/div[10]/div[2]/div/div/div[3]/div/div/div/form/button[1]')\n",
    "search.click()"
   ]
  },
  {
   "cell_type": "code",
   "execution_count": null,
   "id": "c80e68fb",
   "metadata": {},
   "outputs": [],
   "source": []
  }
 ],
 "metadata": {
  "kernelspec": {
   "display_name": "Python 3 (ipykernel)",
   "language": "python",
   "name": "python3"
  },
  "language_info": {
   "codemirror_mode": {
    "name": "ipython",
    "version": 3
   },
   "file_extension": ".py",
   "mimetype": "text/x-python",
   "name": "python",
   "nbconvert_exporter": "python",
   "pygments_lexer": "ipython3",
   "version": "3.9.13"
  }
 },
 "nbformat": 4,
 "nbformat_minor": 5
}
