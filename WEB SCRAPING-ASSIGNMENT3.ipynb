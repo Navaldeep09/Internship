{
 "cells": [
  {
   "cell_type": "markdown",
   "id": "ac7c363b",
   "metadata": {},
   "source": [
    "# Question1"
   ]
  },
  {
   "cell_type": "code",
   "execution_count": 57,
   "id": "ce3fad93",
   "metadata": {},
   "outputs": [
    {
     "name": "stdout",
     "output_type": "stream",
     "text": [
      "Requirement already satisfied: selenium in c:\\users\\admin\\anaconda3\\lib\\site-packages (4.17.2)\n",
      "Requirement already satisfied: urllib3[socks]<3,>=1.26 in c:\\users\\admin\\anaconda3\\lib\\site-packages (from selenium) (1.26.11)\n",
      "Requirement already satisfied: trio-websocket~=0.9 in c:\\users\\admin\\anaconda3\\lib\\site-packages (from selenium) (0.11.1)\n",
      "Requirement already satisfied: trio~=0.17 in c:\\users\\admin\\anaconda3\\lib\\site-packages (from selenium) (0.24.0)\n",
      "Requirement already satisfied: typing_extensions>=4.9.0 in c:\\users\\admin\\anaconda3\\lib\\site-packages (from selenium) (4.9.0)\n",
      "Requirement already satisfied: certifi>=2021.10.8 in c:\\users\\admin\\anaconda3\\lib\\site-packages (from selenium) (2022.9.14)\n",
      "Requirement already satisfied: outcome in c:\\users\\admin\\anaconda3\\lib\\site-packages (from trio~=0.17->selenium) (1.3.0.post0)\n",
      "Requirement already satisfied: exceptiongroup in c:\\users\\admin\\anaconda3\\lib\\site-packages (from trio~=0.17->selenium) (1.2.0)\n",
      "Requirement already satisfied: idna in c:\\users\\admin\\anaconda3\\lib\\site-packages (from trio~=0.17->selenium) (3.3)\n",
      "Requirement already satisfied: sortedcontainers in c:\\users\\admin\\anaconda3\\lib\\site-packages (from trio~=0.17->selenium) (2.4.0)\n",
      "Requirement already satisfied: attrs>=20.1.0 in c:\\users\\admin\\anaconda3\\lib\\site-packages (from trio~=0.17->selenium) (21.4.0)\n",
      "Requirement already satisfied: cffi>=1.14 in c:\\users\\admin\\anaconda3\\lib\\site-packages (from trio~=0.17->selenium) (1.15.1)\n",
      "Requirement already satisfied: sniffio>=1.3.0 in c:\\users\\admin\\anaconda3\\lib\\site-packages (from trio~=0.17->selenium) (1.3.0)\n",
      "Requirement already satisfied: wsproto>=0.14 in c:\\users\\admin\\anaconda3\\lib\\site-packages (from trio-websocket~=0.9->selenium) (1.2.0)\n",
      "Requirement already satisfied: PySocks!=1.5.7,<2.0,>=1.5.6 in c:\\users\\admin\\anaconda3\\lib\\site-packages (from urllib3[socks]<3,>=1.26->selenium) (1.7.1)\n",
      "Requirement already satisfied: pycparser in c:\\users\\admin\\anaconda3\\lib\\site-packages (from cffi>=1.14->trio~=0.17->selenium) (2.21)\n",
      "Requirement already satisfied: h11<1,>=0.9.0 in c:\\users\\admin\\anaconda3\\lib\\site-packages (from wsproto>=0.14->trio-websocket~=0.9->selenium) (0.14.0)\n"
     ]
    }
   ],
   "source": [
    "!pip install selenium\n",
    "import selenium\n",
    "from selenium import webdriver\n",
    "from selenium.webdriver.common.by import By\n",
    "import time\n",
    "import pandas as pd\n",
    "import warnings\n",
    "warnings.filterwarnings('ignore')"
   ]
  },
  {
   "cell_type": "code",
   "execution_count": 58,
   "id": "c2cc1972",
   "metadata": {},
   "outputs": [],
   "source": [
    "driver=webdriver.Chrome()\n",
    "driver.get(\"https://www.amazon.in/\")\n",
    "job=driver.find_element(By.XPATH,'/html/body/div[1]/header/div/div[1]/div[2]/div/form/div[2]/div[1]/input')\n",
    "job.send_keys('guitar')\n",
    "search=driver.find_element(By.XPATH,'/html/body/div[1]/header/div/div[1]/div[2]/div/form/div[3]/div/span/input')\n",
    "search.click()"
   ]
  },
  {
   "cell_type": "markdown",
   "id": "c4c40143",
   "metadata": {},
   "source": [
    "# Question 2"
   ]
  },
  {
   "cell_type": "code",
   "execution_count": null,
   "id": "9f084036",
   "metadata": {},
   "outputs": [],
   "source": [
    "title = []\n",
    "price = []\n",
    "exchange = []\n",
    "delivery = []\n",
    "availability = []\n",
    "links = []\n",
    "\n",
    "# Fetching data\n",
    "start = 0\n",
    "end = 3\n",
    "for page in range(start, end):\n",
    "    try:\n",
    "        title_tag = driver.find_elements(By.XPATH, '//h2[@class=\"a-size-mini a-spacing-none a-color-base s-line-clamp-4\"]')\n",
    "        for t in title_tag:\n",
    "            title.append(t.text)\n",
    "            \n",
    "        price_tag = driver.find_elements(By.XPATH, '//span[@class=\"a-price-whole\"]')\n",
    "        for p in price_tag:\n",
    "            price.append(p.text)\n",
    "            \n",
    "        delivery_tag = driver.find_elements(By.XPATH, '//span[@class=\"a-color-base a-text-bold\"]')\n",
    "        for d in delivery_tag:\n",
    "            delivery.append(d.text)\n",
    "            \n",
    "        link_tag = driver.find_elements(By.XPATH, '//a[@class=\"a-link-normal s-underline-text s-underline-link-text s-link-style a-text-normal\"]')\n",
    "        for i in link_tag:\n",
    "            links.append(i.get_attribute('href'))\n",
    "        \n",
    "        nextbtn = driver.find_element(By.XPATH, '/html/body/div[1]/div[1]/div[1]/div[1]/div/span[1]/div[1]/div[67]/div/div/span/a[3]')\n",
    "        nextbtn.click()\n",
    "        time.sleep(3)\n",
    "        \n",
    "        print(len(title), len(price), len(delivery), len(links))\n",
    "        \n",
    "    except NoSuchElementException:\n",
    "        title.append('-')\n",
    "        price.append('-')\n",
    "        delivery.append('-')\n",
    "        links.append('_')\n"
   ]
  },
  {
   "cell_type": "markdown",
   "id": "875ebfe5",
   "metadata": {},
   "source": [
    "# Question 3"
   ]
  },
  {
   "cell_type": "code",
   "execution_count": 80,
   "id": "03fe8392",
   "metadata": {},
   "outputs": [],
   "source": [
    "# opening google.com\n",
    "\n",
    "driver=webdriver.Chrome()\n",
    "driver.get(\"https://images.google.com/\")\n",
    "\n",
    "# Search for fruits\n",
    "\n",
    "search_bar=driver.find_element(By.XPATH,'//html/body/div[1]/div[3]/form/div[1]/div[1]/div[1]/div/div[2]/textarea')\n",
    "search_bar.send_keys('fruit')\n",
    "search_btn=driver.find_element(By.XPATH,'//html/body/div[1]/div[3]/form/div[1]/div[1]/div[1]/button/div/span')\n",
    "search_btn.click()"
   ]
  },
  {
   "cell_type": "code",
   "execution_count": 81,
   "id": "b6fd1877",
   "metadata": {},
   "outputs": [
    {
     "name": "stdout",
     "output_type": "stream",
     "text": [
      "10\n"
     ]
    }
   ],
   "source": [
    " # Extract image URLs\n",
    "    \n",
    "links = []\n",
    "link_tag = driver.find_elements(By.XPATH, '//img[@class=\"rg_i Q4LuWd\"]')[:10]\n",
    "for i in link_tag:\n",
    "    links.append(i.get_attribute('src'))\n",
    "                    \n",
    "print(len(links))\n"
   ]
  },
  {
   "cell_type": "code",
   "execution_count": 89,
   "id": "bb87b6c5",
   "metadata": {},
   "outputs": [
    {
     "name": "stdout",
     "output_type": "stream",
     "text": [
      "10\n"
     ]
    }
   ],
   "source": [
    "# clear search bar\n",
    "\n",
    "search_bar2=driver.find_element(By.XPATH,'/html/body/c-wiz/c-wiz/div/div[3]/div[2]/div/div[1]/form/div[1]/div[2]/div/div[2]/input')\n",
    "\n",
    "search_bar2.clear()\n",
    "search_bar2.send_keys('cars')\n",
    "searchbtn=driver.find_element(By.CLASS_NAME,'rCGXm')\n",
    "searchbtn.click()\n",
    "\n",
    " # Extract cars url\n",
    "    \n",
    "cars= []\n",
    "car_tag = driver.find_elements(By.XPATH, '//img[@class=\"rg_i Q4LuWd\"]')[:10]\n",
    "for i in car_tag:\n",
    "    cars.append(i.get_attribute('src'))\n",
    "                    \n",
    "print(len(cars))"
   ]
  },
  {
   "cell_type": "code",
   "execution_count": 90,
   "id": "f45a522d",
   "metadata": {},
   "outputs": [
    {
     "name": "stdout",
     "output_type": "stream",
     "text": [
      "10\n"
     ]
    }
   ],
   "source": [
    "# clear search bar to search for next product\n",
    "\n",
    "search_bar2=driver.find_element(By.XPATH,'/html/body/c-wiz/c-wiz/div/div[3]/div[2]/div/div[1]/form/div[1]/div[2]/div/div[2]/input')\n",
    "\n",
    "search_bar2.clear()\n",
    "search_bar2.send_keys('Machine Learning')\n",
    "searchbtn=driver.find_element(By.CLASS_NAME,'rCGXm')\n",
    "searchbtn.click()\n",
    "\n",
    " # Extract machine learning url\n",
    "    \n",
    "ml= []\n",
    "ml_tag = driver.find_elements(By.XPATH, '//img[@class=\"rg_i Q4LuWd\"]')[:10]\n",
    "for i in ml_tag:\n",
    "    ml.append(i.get_attribute('src'))\n",
    "                    \n",
    "print(len(ml))"
   ]
  },
  {
   "cell_type": "code",
   "execution_count": 91,
   "id": "30b63065",
   "metadata": {},
   "outputs": [
    {
     "name": "stdout",
     "output_type": "stream",
     "text": [
      "10\n"
     ]
    }
   ],
   "source": [
    "# clear search bar to search for next product\n",
    "\n",
    "search_bar2=driver.find_element(By.XPATH,'/html/body/c-wiz/c-wiz/div/div[3]/div[2]/div/div[1]/form/div[1]/div[2]/div/div[2]/input')\n",
    "\n",
    "search_bar2.clear()\n",
    "search_bar2.send_keys('Guitar')\n",
    "searchbtn=driver.find_element(By.CLASS_NAME,'rCGXm')\n",
    "searchbtn.click()\n",
    "\n",
    " # Extract Guitar url\n",
    "    \n",
    "guitar= []\n",
    "guitar_tag = driver.find_elements(By.XPATH, '//img[@class=\"rg_i Q4LuWd\"]')[:10]\n",
    "for i in guitar_tag:\n",
    "    guitar.append(i.get_attribute('src'))\n",
    "                    \n",
    "print(len(guitar))"
   ]
  },
  {
   "cell_type": "code",
   "execution_count": 93,
   "id": "3ea4e2d1",
   "metadata": {},
   "outputs": [
    {
     "name": "stdout",
     "output_type": "stream",
     "text": [
      "10\n"
     ]
    }
   ],
   "source": [
    "# clear search bar to search for next product\n",
    "\n",
    "search_bar2=driver.find_element(By.XPATH,'/html/body/c-wiz/c-wiz/div/div[3]/div[2]/div/div[1]/form/div[1]/div[2]/div/div[2]/input')\n",
    "\n",
    "search_bar2.clear()\n",
    "search_bar2.send_keys('Cakes')\n",
    "searchbtn=driver.find_element(By.CLASS_NAME,'rCGXm')\n",
    "searchbtn.click()\n",
    "\n",
    " # Extract Cakes url\n",
    "    \n",
    "cakes= []\n",
    "cakes_tag = driver.find_elements(By.XPATH, '//img[@class=\"rg_i Q4LuWd\"]')[:10]\n",
    "for i in cakes_tag:\n",
    "    cakes.append(i.get_attribute('src'))\n",
    "                    \n",
    "print(len(cakes))"
   ]
  },
  {
   "cell_type": "markdown",
   "id": "12356864",
   "metadata": {},
   "source": [
    "# Question 4"
   ]
  },
  {
   "cell_type": "code",
   "execution_count": 109,
   "id": "6421ff49",
   "metadata": {},
   "outputs": [],
   "source": [
    "# open flipkart.com\n",
    "\n",
    "driver=webdriver.Chrome()\n",
    "driver.get(\"https://www.flipkart.com\")\n",
    "\n",
    "# Search for Oneplus Nord, pixel 4A\n",
    "\n",
    "search_bar=driver.find_element(By.XPATH,'/html/body/div[1]/div/div[1]/div/div/div/div/div[1]/div/div[1]/div/div[1]/div[1]/header/div[1]/div[2]/form/div/div/input')\n",
    "search_bar.send_keys('Oneplus Nord, pixel 4A')\n",
    "search_btn=driver.find_element(By.XPATH,'//div[@class=\"_1sFryS _2alaMB\"]/button')\n",
    "search_btn.click()\n"
   ]
  },
  {
   "cell_type": "code",
   "execution_count": 110,
   "id": "d3623929",
   "metadata": {},
   "outputs": [],
   "source": [
    "# Fetching product desc\n",
    "\n",
    "\n",
    "product_des = driver.find_element(By.XPATH, '//div[@class=\"_2kHMtA\"]/a')\n",
    "product_des.click()\n",
    "\n",
    "color=driver.find_elements(By.XPATH, '//div[@class=\"_4rR01T\"]')\n"
   ]
  },
  {
   "cell_type": "markdown",
   "id": "fc317a43",
   "metadata": {},
   "source": [
    "# Question 6\n"
   ]
  },
  {
   "cell_type": "code",
   "execution_count": 122,
   "id": "2755b30c",
   "metadata": {},
   "outputs": [],
   "source": [
    "# Open digit.in\n",
    "\n",
    "driver=webdriver.Chrome()\n",
    "driver.get(\"https://www.digit.in/\")\n",
    "\n",
    "# Search for best gaming laptops\n",
    "search_bar= driver.find_element(By.XPATH,'//input[@class=\"re-ajax-search\"]')\n",
    "search_bar.send_keys('gaming laptops')\n",
    "search_btn=driver.find_element(By.XPATH,'//button[@class=\"btnsearch hideonmobile\"]')\n",
    "search_btn.click()\n"
   ]
  },
  {
   "cell_type": "code",
   "execution_count": 126,
   "id": "5d1eb98c",
   "metadata": {},
   "outputs": [
    {
     "name": "stdout",
     "output_type": "stream",
     "text": [
      "1\n",
      "2\n",
      "3\n",
      "4\n",
      "5\n",
      "6\n"
     ]
    }
   ],
   "source": [
    "laptop=[]\n",
    "laptop_tag = driver.find_elements(By.XPATH,'//h3[@class=\" text-clamp text-clamp-2\"]/a')\n",
    "for l in laptop_tag:\n",
    "    laptop.append(l.text)\n",
    "    print(len(laptop))"
   ]
  },
  {
   "cell_type": "code",
   "execution_count": 130,
   "id": "5dad7668",
   "metadata": {},
   "outputs": [
    {
     "name": "stdout",
     "output_type": "stream",
     "text": [
      "1\n",
      "2\n",
      "3\n"
     ]
    }
   ],
   "source": [
    "price = []\n",
    "\n",
    "try:\n",
    "    laptop_price = driver.find_elements(By.XPATH, '//span[@class=\"woocommerce-Price-currencySymbol\"]')\n",
    "    for p in laptop_price:\n",
    "        price.append(p.text)\n",
    "        print(len(price))\n",
    "except NoSuchElementException:\n",
    "    price.append('-')\n",
    "    print(price)"
   ]
  },
  {
   "cell_type": "markdown",
   "id": "eff16eae",
   "metadata": {},
   "source": [
    "# Question 7"
   ]
  },
  {
   "cell_type": "code",
   "execution_count": 135,
   "id": "98a500d3",
   "metadata": {},
   "outputs": [],
   "source": [
    "# Open forbes.com\n",
    "\n",
    "\n",
    "\n",
    "driver=webdriver.Chrome()\n",
    "driver.get(\"https://www.forbes.com./?sh=34fcb6143daf\")\n",
    "\n",
    "#Note Visiting an untrustworthy website has been prevented"
   ]
  },
  {
   "cell_type": "markdown",
   "id": "3b56f31c",
   "metadata": {},
   "source": [
    "# Question 9"
   ]
  },
  {
   "cell_type": "code",
   "execution_count": 145,
   "id": "4cd300f4",
   "metadata": {},
   "outputs": [],
   "source": [
    "    \n",
    "driver=webdriver.Chrome()\n",
    "driver.get(\"https://www.hostelworld.com/\")\n",
    "# Search hostels in london\n",
    "loc=driver.find_element(By.XPATH,'//div[@class=\"input-wrapper\"]/input')\n",
    "loc.send_keys('london')\n"
   ]
  },
  {
   "cell_type": "code",
   "execution_count": 146,
   "id": "aef1b9fe",
   "metadata": {},
   "outputs": [],
   "source": [
    "search_btn=driver.find_element(By.XPATH,'//div[@class=\"destination-search-results select-list-container\"]/ul/li[2]/button')\n",
    "search_btn.click()"
   ]
  },
  {
   "cell_type": "code",
   "execution_count": 147,
   "id": "834e93ef",
   "metadata": {},
   "outputs": [],
   "source": [
    "gobtn=driver.find_element(By.XPATH,'//div[@class=\"guests-submit-wrapper\"]/button[2]')\n",
    "gobtn.click()\n",
    "\n",
    "\n"
   ]
  },
  {
   "cell_type": "code",
   "execution_count": 149,
   "id": "9e7143d9",
   "metadata": {},
   "outputs": [
    {
     "name": "stdout",
     "output_type": "stream",
     "text": [
      "1\n",
      "2\n",
      "3\n",
      "4\n",
      "5\n",
      "6\n",
      "7\n",
      "8\n",
      "9\n",
      "10\n",
      "11\n",
      "12\n",
      "13\n",
      "14\n",
      "15\n",
      "16\n",
      "17\n",
      "18\n",
      "19\n",
      "20\n",
      "21\n",
      "22\n",
      "23\n",
      "24\n",
      "25\n",
      "26\n",
      "27\n",
      "28\n",
      "29\n",
      "30\n"
     ]
    }
   ],
   "source": [
    "property_name=[]\n",
    "\n",
    "property_tag = driver.find_elements(By.XPATH, '//div[@class=\"property-info-header\"]/div/span')\n",
    "for p in property_tag:\n",
    "    property_name.append(p.text)\n",
    "    print(len(property_name))"
   ]
  },
  {
   "cell_type": "code",
   "execution_count": null,
   "id": "0adfc03e",
   "metadata": {},
   "outputs": [],
   "source": [
    "rating=[]\n",
    "\n",
    "rating_tag = driver.find_elements(By.XPATH, '')\n",
    "for r in rating_tag:\n",
    "    rating.append(r.text)\n",
    "    print(len(rating))"
   ]
  }
 ],
 "metadata": {
  "kernelspec": {
   "display_name": "Python 3 (ipykernel)",
   "language": "python",
   "name": "python3"
  },
  "language_info": {
   "codemirror_mode": {
    "name": "ipython",
    "version": 3
   },
   "file_extension": ".py",
   "mimetype": "text/x-python",
   "name": "python",
   "nbconvert_exporter": "python",
   "pygments_lexer": "ipython3",
   "version": "3.9.13"
  }
 },
 "nbformat": 4,
 "nbformat_minor": 5
}
